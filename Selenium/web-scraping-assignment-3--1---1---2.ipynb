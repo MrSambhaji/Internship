{
 "cells": [
  {
   "cell_type": "markdown",
   "id": "395f29de",
   "metadata": {},
   "source": [
    "# Qu-4 Write a python program to search for a smartphone(e.g.: Oneplus Nord, pixel 4A, etc.) on www.flipkart.com and scrape following details for all the search results displayed on 1st page. Details to be scraped: “Brand Name”, “Smartphone name”, “Colour”, “RAM”, “Storage(ROM)”, “Primary Camera”, “Secondary Camera”, “Display Size”, “Battery Capacity”, “Price”, “Product URL”. Incase if any of the details is missing then replace it by “- “. Save your results in a dataframe and CSV."
   ]
  },
  {
   "cell_type": "code",
   "execution_count": 1,
   "id": "8f6c2a11",
   "metadata": {},
   "outputs": [],
   "source": [
    "import selenium\n",
    "import pandas as pd\n",
    "from selenium import webdriver\n",
    "import warnings\n",
    "warnings.filterwarnings('ignore')\n",
    "from selenium.webdriver.common.by import By\n",
    "import time"
   ]
  },
  {
   "cell_type": "code",
   "execution_count": 2,
   "id": "010dd092",
   "metadata": {},
   "outputs": [],
   "source": [
    "from selenium import webdriver\n",
    "from selenium.webdriver.chrome.service import Service as ChromeService\n",
    "from webdriver_manager.chrome import ChromeDriverManager\n",
    "\n",
    "driver = webdriver.Chrome(service=ChromeService(ChromeDriverManager().install()))"
   ]
  },
  {
   "cell_type": "code",
   "execution_count": 3,
   "id": "ae314b76",
   "metadata": {},
   "outputs": [],
   "source": [
    "driver.get(\"https://www.flipkart.com/\")"
   ]
  },
  {
   "cell_type": "code",
   "execution_count": 4,
   "id": "ef244b67",
   "metadata": {},
   "outputs": [],
   "source": [
    "#Putting product name in search\n",
    "product=driver.find_element(By.XPATH,'//*[@id=\"container\"]/div/div[1]/div/div/div/div/div[1]/div/div[1]/div/div[1]/div[1]/header/div[1]/div[2]/form/div/div/input')\n",
    "product.send_keys(\"Oneplus Nord, pixel 4A\")\n",
    "search=driver.find_element(By.XPATH,\"/html/body/div[1]/div/div[1]/div/div/div/div/div[1]/div/div[1]/div/div[1]/div[1]/header/div[1]/div[2]/form/div/button\")\n",
    "search.click()"
   ]
  },
  {
   "cell_type": "code",
   "execution_count": 5,
   "id": "ec8dffc7",
   "metadata": {},
   "outputs": [],
   "source": [
    "Brand_Name=[]\n",
    "Colour=[]\n",
    "Storage_RAM_ROM=[]\n",
    "P_F_Camera=[]\n",
    "Display_size_Resolution=[]\n",
    "ProcessorAndCores=[]\n",
    "Battery=[]\n",
    "Price=[]\n",
    "Product_URL=[]"
   ]
  },
  {
   "cell_type": "code",
   "execution_count": 6,
   "id": "c3647e69",
   "metadata": {},
   "outputs": [
    {
     "name": "stdout",
     "output_type": "stream",
     "text": [
      "9 ['OnePlus Nord CE 2 5G (Bahama Blue, 128 GB)', 'OnePlus Nord (Blue Marble, 128 GB)', 'OnePlus Nord (Gray Onyx, 64 GB)', 'OnePlus Nord (Blue Marble, 256 GB)', 'OnePlus Nord (Gray Onyx, 128 GB)', 'OnePlus Nord (Blue Marble, 64 GB)', 'OnePlus Nord (Gray Onyx, 256 GB)', 'OnePlus Nord CE 2 5G (Gray Mirror, 128 GB)', 'OnePlus Nord CE 2 5G (Gray Mirror, 128 GB)']\n"
     ]
    }
   ],
   "source": [
    "#scraping the Brand_Name \n",
    "BName=driver.find_elements(By.XPATH,\"//div[@class='_4rR01T']\")\n",
    "for i in BName:\n",
    "    if i.text is None :\n",
    "        Brand_Name.append(\"--\") \n",
    "    else:\n",
    "        Brand_Name.append(i.text)\n",
    "print(len(Brand_Name),Brand_Name)"
   ]
  },
  {
   "cell_type": "code",
   "execution_count": 7,
   "id": "a9dfe687",
   "metadata": {},
   "outputs": [
    {
     "name": "stdout",
     "output_type": "stream",
     "text": [
      "9 ['8 GB RAM | 128 GB ROM', '8 GB RAM | 128 GB ROM', '6 GB RAM | 64 GB ROM', '12 GB RAM | 256 GB ROM', '8 GB RAM | 128 GB ROM', '6 GB RAM | 64 GB ROM', '12 GB RAM | 256 GB ROM', '8 GB RAM | 128 GB ROM', '6 GB RAM | 128 GB ROM']\n"
     ]
    }
   ],
   "source": [
    "#scraping the Storage_RAM_ROM \n",
    "ram=driver.find_elements(By.XPATH,\"//ul[@class='_1xgFaf']//li[1]\")\n",
    "for i in ram:\n",
    "    if i.text is None :\n",
    "        Storage_RAM_ROM.append(\"--\") \n",
    "    else:\n",
    "        Storage_RAM_ROM.append(i.text)\n",
    "print(len(Storage_RAM_ROM),Storage_RAM_ROM)"
   ]
  },
  {
   "cell_type": "code",
   "execution_count": 8,
   "id": "35fda73a",
   "metadata": {},
   "outputs": [
    {
     "name": "stdout",
     "output_type": "stream",
     "text": [
      "9 ['64MP Rear Camera', '48MP + 8MP | 32MP + 8MP Dual Front Camera', '48MP + 8MP | 32MP + 8MP Dual Front Camera', '48MP + 8MP | 32MP + 8MP Dual Front Camera', '48MP + 8MP | 32MP + 8MP Dual Front Camera', '48MP + 8MP | 32MP + 8MP Dual Front Camera', '48MP + 8MP | 32MP + 8MP Dual Front Camera', '64MP Rear Camera', '64MP Rear Camera | 16MP Front Camera']\n"
     ]
    }
   ],
   "source": [
    "#scraping the P_F_Camera \n",
    "PC=driver.find_elements(By.XPATH,\"//ul[@class='_1xgFaf']//li[3]\")\n",
    "for i in PC:\n",
    "    if i.text is None :\n",
    "        P_F_Camera.append(\"--\") \n",
    "    else:\n",
    "        P_F_Camera.append(i.text)\n",
    "print(len(P_F_Camera),P_F_Camera)"
   ]
  },
  {
   "cell_type": "code",
   "execution_count": 9,
   "id": "0d6b0468",
   "metadata": {},
   "outputs": [
    {
     "name": "stdout",
     "output_type": "stream",
     "text": [
      "9 ['16.33 cm (6.43 inch) Display', '16.36 cm (6.44 inch) Full HD+ Display', '16.36 cm (6.44 inch) Full HD+ Display', '16.36 cm (6.44 inch) Full HD+ Display', '16.36 cm (6.44 inch) Full HD+ Display', '16.36 cm (6.44 inch) Full HD+ Display', '16.36 cm (6.44 inch) Full HD+ Display', '16.33 cm (6.43 inch) Display', '16.33 cm (6.43 inch) Display']\n"
     ]
    }
   ],
   "source": [
    "#scraping the Display_size_Resolution \n",
    "DS=driver.find_elements(By.XPATH,\"//ul[@class='_1xgFaf']//li[2]\")\n",
    "for i in DS:\n",
    "    if i.text is None :\n",
    "        Display_size_Resolution.append(\"--\") \n",
    "    else:\n",
    "        Display_size_Resolution.append(i.text)\n",
    "print(len(Display_size_Resolution),Display_size_Resolution)"
   ]
  },
  {
   "cell_type": "code",
   "execution_count": 10,
   "id": "9f003a55",
   "metadata": {},
   "outputs": [
    {
     "name": "stdout",
     "output_type": "stream",
     "text": [
      "9 ['1 Year Warranty', 'Qualcomm® Snapdragon™ 765G Processor', 'Qualcomm® Snapdragon™ 765G Processor', 'Qualcomm® Snapdragon™ 765G Processor', 'Qualcomm® Snapdragon™ 765G Processor', 'Qualcomm® Snapdragon™ 765G Processor', 'Qualcomm® Snapdragon™ 765G Processor', '1 Year', '1 Year Warranty']\n"
     ]
    }
   ],
   "source": [
    "#scraping the ProcessorAndCores \n",
    "P=driver.find_elements(By.XPATH,\"//ul[@class='_1xgFaf']//li[5]\")\n",
    "for i in P:\n",
    "    if i.text is None :\n",
    "        ProcessorAndCores.append(\"--\") \n",
    "    else:\n",
    "        ProcessorAndCores.append(i.text)\n",
    "print(len(ProcessorAndCores),ProcessorAndCores)"
   ]
  },
  {
   "cell_type": "code",
   "execution_count": 11,
   "id": "c23e1371",
   "metadata": {},
   "outputs": [
    {
     "name": "stdout",
     "output_type": "stream",
     "text": [
      "9 ['4500 mAh Battery', '4115 mAh Battery', '4115 mAh Battery', '4115 mAh Battery', '4115 mAh Battery', '4115 mAh Battery', '4115 mAh Battery', '4500 mAh Battery', '4500 mAh Battery']\n"
     ]
    }
   ],
   "source": [
    "#scraping the Battery \n",
    "B=driver.find_elements(By.XPATH,\"//ul[@class='_1xgFaf']//li[4]\")\n",
    "for i in B:\n",
    "    if i.text is None :\n",
    "        Battery.append(\"--\") \n",
    "    else:\n",
    "        Battery.append(i.text)\n",
    "print(len(Battery),Battery)"
   ]
  },
  {
   "cell_type": "code",
   "execution_count": 12,
   "id": "1beaefb0",
   "metadata": {},
   "outputs": [
    {
     "name": "stdout",
     "output_type": "stream",
     "text": [
      "9 ['₹21,886', '₹24,790', '₹22,689', '₹21,999', '₹24,600', '₹22,980', '₹22,999', '₹17,999', '₹19,999']\n"
     ]
    }
   ],
   "source": [
    "#scraping the Price \n",
    "price=driver.find_elements(By.XPATH,\"//div[@class='_30jeq3 _1_WHN1']\")\n",
    "for i in price:\n",
    "    if i.text is None :\n",
    "        Price.append(\"--\") \n",
    "    else:\n",
    "        Price.append(i.text)\n",
    "print(len(Price),Price)"
   ]
  },
  {
   "cell_type": "code",
   "execution_count": 17,
   "id": "2cc1e86c",
   "metadata": {},
   "outputs": [
    {
     "data": {
      "text/html": [
       "<div>\n",
       "<style scoped>\n",
       "    .dataframe tbody tr th:only-of-type {\n",
       "        vertical-align: middle;\n",
       "    }\n",
       "\n",
       "    .dataframe tbody tr th {\n",
       "        vertical-align: top;\n",
       "    }\n",
       "\n",
       "    .dataframe thead th {\n",
       "        text-align: right;\n",
       "    }\n",
       "</style>\n",
       "<table border=\"1\" class=\"dataframe\">\n",
       "  <thead>\n",
       "    <tr style=\"text-align: right;\">\n",
       "      <th></th>\n",
       "      <th>Brand_Name</th>\n",
       "      <th>Storage_RAM_ROM</th>\n",
       "      <th>Amount P_F_Camera</th>\n",
       "      <th>Display_size_Resolution</th>\n",
       "      <th>ProcessorAndCores</th>\n",
       "      <th>Battery</th>\n",
       "      <th>Price</th>\n",
       "    </tr>\n",
       "  </thead>\n",
       "  <tbody>\n",
       "    <tr>\n",
       "      <th>0</th>\n",
       "      <td>OnePlus Nord CE 2 5G (Bahama Blue, 128 GB)</td>\n",
       "      <td>8 GB RAM | 128 GB ROM</td>\n",
       "      <td>64MP Rear Camera</td>\n",
       "      <td>16.33 cm (6.43 inch) Display</td>\n",
       "      <td>1 Year Warranty</td>\n",
       "      <td>4500 mAh Battery</td>\n",
       "      <td>₹21,886</td>\n",
       "    </tr>\n",
       "    <tr>\n",
       "      <th>1</th>\n",
       "      <td>OnePlus Nord (Blue Marble, 128 GB)</td>\n",
       "      <td>8 GB RAM | 128 GB ROM</td>\n",
       "      <td>48MP + 8MP | 32MP + 8MP Dual Front Camera</td>\n",
       "      <td>16.36 cm (6.44 inch) Full HD+ Display</td>\n",
       "      <td>Qualcomm® Snapdragon™ 765G Processor</td>\n",
       "      <td>4115 mAh Battery</td>\n",
       "      <td>₹24,790</td>\n",
       "    </tr>\n",
       "    <tr>\n",
       "      <th>2</th>\n",
       "      <td>OnePlus Nord (Gray Onyx, 64 GB)</td>\n",
       "      <td>6 GB RAM | 64 GB ROM</td>\n",
       "      <td>48MP + 8MP | 32MP + 8MP Dual Front Camera</td>\n",
       "      <td>16.36 cm (6.44 inch) Full HD+ Display</td>\n",
       "      <td>Qualcomm® Snapdragon™ 765G Processor</td>\n",
       "      <td>4115 mAh Battery</td>\n",
       "      <td>₹22,689</td>\n",
       "    </tr>\n",
       "    <tr>\n",
       "      <th>3</th>\n",
       "      <td>OnePlus Nord (Blue Marble, 256 GB)</td>\n",
       "      <td>12 GB RAM | 256 GB ROM</td>\n",
       "      <td>48MP + 8MP | 32MP + 8MP Dual Front Camera</td>\n",
       "      <td>16.36 cm (6.44 inch) Full HD+ Display</td>\n",
       "      <td>Qualcomm® Snapdragon™ 765G Processor</td>\n",
       "      <td>4115 mAh Battery</td>\n",
       "      <td>₹21,999</td>\n",
       "    </tr>\n",
       "    <tr>\n",
       "      <th>4</th>\n",
       "      <td>OnePlus Nord (Gray Onyx, 128 GB)</td>\n",
       "      <td>8 GB RAM | 128 GB ROM</td>\n",
       "      <td>48MP + 8MP | 32MP + 8MP Dual Front Camera</td>\n",
       "      <td>16.36 cm (6.44 inch) Full HD+ Display</td>\n",
       "      <td>Qualcomm® Snapdragon™ 765G Processor</td>\n",
       "      <td>4115 mAh Battery</td>\n",
       "      <td>₹24,600</td>\n",
       "    </tr>\n",
       "    <tr>\n",
       "      <th>5</th>\n",
       "      <td>OnePlus Nord (Blue Marble, 64 GB)</td>\n",
       "      <td>6 GB RAM | 64 GB ROM</td>\n",
       "      <td>48MP + 8MP | 32MP + 8MP Dual Front Camera</td>\n",
       "      <td>16.36 cm (6.44 inch) Full HD+ Display</td>\n",
       "      <td>Qualcomm® Snapdragon™ 765G Processor</td>\n",
       "      <td>4115 mAh Battery</td>\n",
       "      <td>₹22,980</td>\n",
       "    </tr>\n",
       "    <tr>\n",
       "      <th>6</th>\n",
       "      <td>OnePlus Nord (Gray Onyx, 256 GB)</td>\n",
       "      <td>12 GB RAM | 256 GB ROM</td>\n",
       "      <td>48MP + 8MP | 32MP + 8MP Dual Front Camera</td>\n",
       "      <td>16.36 cm (6.44 inch) Full HD+ Display</td>\n",
       "      <td>Qualcomm® Snapdragon™ 765G Processor</td>\n",
       "      <td>4115 mAh Battery</td>\n",
       "      <td>₹22,999</td>\n",
       "    </tr>\n",
       "    <tr>\n",
       "      <th>7</th>\n",
       "      <td>OnePlus Nord CE 2 5G (Gray Mirror, 128 GB)</td>\n",
       "      <td>8 GB RAM | 128 GB ROM</td>\n",
       "      <td>64MP Rear Camera</td>\n",
       "      <td>16.33 cm (6.43 inch) Display</td>\n",
       "      <td>1 Year</td>\n",
       "      <td>4500 mAh Battery</td>\n",
       "      <td>₹17,999</td>\n",
       "    </tr>\n",
       "    <tr>\n",
       "      <th>8</th>\n",
       "      <td>OnePlus Nord CE 2 5G (Gray Mirror, 128 GB)</td>\n",
       "      <td>6 GB RAM | 128 GB ROM</td>\n",
       "      <td>64MP Rear Camera | 16MP Front Camera</td>\n",
       "      <td>16.33 cm (6.43 inch) Display</td>\n",
       "      <td>1 Year Warranty</td>\n",
       "      <td>4500 mAh Battery</td>\n",
       "      <td>₹19,999</td>\n",
       "    </tr>\n",
       "  </tbody>\n",
       "</table>\n",
       "</div>"
      ],
      "text/plain": [
       "                                   Brand_Name         Storage_RAM_ROM  \\\n",
       "0  OnePlus Nord CE 2 5G (Bahama Blue, 128 GB)   8 GB RAM | 128 GB ROM   \n",
       "1          OnePlus Nord (Blue Marble, 128 GB)   8 GB RAM | 128 GB ROM   \n",
       "2             OnePlus Nord (Gray Onyx, 64 GB)    6 GB RAM | 64 GB ROM   \n",
       "3          OnePlus Nord (Blue Marble, 256 GB)  12 GB RAM | 256 GB ROM   \n",
       "4            OnePlus Nord (Gray Onyx, 128 GB)   8 GB RAM | 128 GB ROM   \n",
       "5           OnePlus Nord (Blue Marble, 64 GB)    6 GB RAM | 64 GB ROM   \n",
       "6            OnePlus Nord (Gray Onyx, 256 GB)  12 GB RAM | 256 GB ROM   \n",
       "7  OnePlus Nord CE 2 5G (Gray Mirror, 128 GB)   8 GB RAM | 128 GB ROM   \n",
       "8  OnePlus Nord CE 2 5G (Gray Mirror, 128 GB)   6 GB RAM | 128 GB ROM   \n",
       "\n",
       "                           Amount P_F_Camera  \\\n",
       "0                           64MP Rear Camera   \n",
       "1  48MP + 8MP | 32MP + 8MP Dual Front Camera   \n",
       "2  48MP + 8MP | 32MP + 8MP Dual Front Camera   \n",
       "3  48MP + 8MP | 32MP + 8MP Dual Front Camera   \n",
       "4  48MP + 8MP | 32MP + 8MP Dual Front Camera   \n",
       "5  48MP + 8MP | 32MP + 8MP Dual Front Camera   \n",
       "6  48MP + 8MP | 32MP + 8MP Dual Front Camera   \n",
       "7                           64MP Rear Camera   \n",
       "8       64MP Rear Camera | 16MP Front Camera   \n",
       "\n",
       "                 Display_size_Resolution  \\\n",
       "0           16.33 cm (6.43 inch) Display   \n",
       "1  16.36 cm (6.44 inch) Full HD+ Display   \n",
       "2  16.36 cm (6.44 inch) Full HD+ Display   \n",
       "3  16.36 cm (6.44 inch) Full HD+ Display   \n",
       "4  16.36 cm (6.44 inch) Full HD+ Display   \n",
       "5  16.36 cm (6.44 inch) Full HD+ Display   \n",
       "6  16.36 cm (6.44 inch) Full HD+ Display   \n",
       "7           16.33 cm (6.43 inch) Display   \n",
       "8           16.33 cm (6.43 inch) Display   \n",
       "\n",
       "                      ProcessorAndCores           Battery    Price  \n",
       "0                       1 Year Warranty  4500 mAh Battery  ₹21,886  \n",
       "1  Qualcomm® Snapdragon™ 765G Processor  4115 mAh Battery  ₹24,790  \n",
       "2  Qualcomm® Snapdragon™ 765G Processor  4115 mAh Battery  ₹22,689  \n",
       "3  Qualcomm® Snapdragon™ 765G Processor  4115 mAh Battery  ₹21,999  \n",
       "4  Qualcomm® Snapdragon™ 765G Processor  4115 mAh Battery  ₹24,600  \n",
       "5  Qualcomm® Snapdragon™ 765G Processor  4115 mAh Battery  ₹22,980  \n",
       "6  Qualcomm® Snapdragon™ 765G Processor  4115 mAh Battery  ₹22,999  \n",
       "7                                1 Year  4500 mAh Battery  ₹17,999  \n",
       "8                       1 Year Warranty  4500 mAh Battery  ₹19,999  "
      ]
     },
     "execution_count": 17,
     "metadata": {},
     "output_type": "execute_result"
    }
   ],
   "source": [
    "FlipKart=pd.DataFrame([])\n",
    "FlipKart['Brand_Name']=Brand_Name\n",
    "FlipKart['Storage_RAM_ROM']=Storage_RAM_ROM\n",
    "FlipKart['Amount P_F_Camera']=P_F_Camera\n",
    "FlipKart['Display_size_Resolution']=Display_size_Resolution\n",
    "FlipKart['ProcessorAndCores']=ProcessorAndCores\n",
    "FlipKart['Battery']=Battery\n",
    "FlipKart['Price']=Price\n",
    "\n",
    "FlipKart"
   ]
  },
  {
   "cell_type": "markdown",
   "id": "facf5925",
   "metadata": {},
   "source": [
    "# Qu-5 Write a program to scrap geospatial coordinates (latitude, longitude) of a city searched on google maps."
   ]
  },
  {
   "cell_type": "code",
   "execution_count": 26,
   "id": "6714c3a5",
   "metadata": {},
   "outputs": [],
   "source": [
    "from selenium import webdriver\n",
    "from selenium.webdriver.chrome.service import Service as ChromeService\n",
    "from webdriver_manager.chrome import ChromeDriverManager\n",
    "import re\n",
    "\n",
    "driver = webdriver.Chrome(service=ChromeService(ChromeDriverManager().install()))"
   ]
  },
  {
   "cell_type": "code",
   "execution_count": 27,
   "id": "40fc838d",
   "metadata": {},
   "outputs": [
    {
     "name": "stdout",
     "output_type": "stream",
     "text": [
      "Enter City Name : Mumbai\n",
      "URL Extracted:  https://www.google.co.in/maps/place/Mumbai,+Maharashtra/@18.563072,73.7968128,14z/data=!4m6!3m5!1s0x3be7c6306644edc1:0x5da4ed8f8d648c69!8m2!3d19.0759837!4d72.8776559!16zL20vMDR2bXA?entry=ttu\n",
      "Latitude = 18.563072, Longitude = 73.7968128\n"
     ]
    }
   ],
   "source": [
    "# opening google maps\n",
    "driver.get(\"https://www.google.co.in/maps\")\n",
    "time.sleep(3)\n",
    "\n",
    "city = input('Enter City Name : ')                                         # Enter city to be searched\n",
    "search = driver.find_element(By.XPATH,\"/html/body/div[1]/div[3]/div[8]/div[3]/div[1]/div[1]/div/div[2]/form/input\")  # locating search bar\n",
    "search.clear()                                                             # clearing search bar\n",
    "time.sleep(2)\n",
    "search.send_keys(city)                                                     # entering values in search bar\n",
    "button = driver.find_element(By.XPATH,\"/html/body/div[1]/div[3]/div[8]/div[3]/div[1]/div[1]/div/div[2]/div[1]/button\")  # locating search button\n",
    "button.click()                                                             # clicking search button\n",
    "time.sleep(3)\n",
    "\n",
    "try:\n",
    "    url_string = driver.current_url\n",
    "    print(\"URL Extracted: \", url_string)\n",
    "    lat_lng =re.findall(r'@(.*)data',url_string)\n",
    "    if len(lat_lng):\n",
    "        lat_lng_list = lat_lng[0].split(\",\")\n",
    "        if len(lat_lng_list)>=2:\n",
    "            lat = lat_lng_list[0]\n",
    "            lng = lat_lng_list[1]\n",
    "        print(\"Latitude = {}, Longitude = {}\".format(lat, lng))\n",
    "\n",
    "except Exception as e:\n",
    "        print(\"Error: \", str(e))"
   ]
  },
  {
   "cell_type": "markdown",
   "id": "b4139c8e",
   "metadata": {},
   "source": [
    "# Qu-6 Write a program to scrap all the available details of best gaming laptops from digit.in."
   ]
  },
  {
   "cell_type": "code",
   "execution_count": 7,
   "id": "a24d6638",
   "metadata": {},
   "outputs": [],
   "source": [
    "import selenium\n",
    "import pandas as pd\n",
    "from selenium import webdriver\n",
    "import warnings\n",
    "warnings.filterwarnings('ignore')\n",
    "from selenium.webdriver.common.by import By\n",
    "import time"
   ]
  },
  {
   "cell_type": "code",
   "execution_count": 3,
   "id": "367653ee",
   "metadata": {},
   "outputs": [],
   "source": [
    "from selenium import webdriver\n",
    "from selenium.webdriver.chrome.service import Service as ChromeService\n",
    "from webdriver_manager.chrome import ChromeDriverManager\n",
    "import re\n",
    "\n",
    "driver = webdriver.Chrome(service=ChromeService(ChromeDriverManager().install()))"
   ]
  },
  {
   "cell_type": "code",
   "execution_count": 4,
   "id": "4ad5765c",
   "metadata": {},
   "outputs": [],
   "source": [
    "driver.get(\"https://www.digit.in/\")"
   ]
  },
  {
   "cell_type": "code",
   "execution_count": 8,
   "id": "d571bed3",
   "metadata": {},
   "outputs": [],
   "source": [
    "topUrl=driver.find_element(By.XPATH,'/html/body/div[1]/header/div/div[2]/div/nav/ul/li[3]/a')#Link for top laptops\n",
    "topUrl.click()                          "
   ]
  },
  {
   "cell_type": "code",
   "execution_count": 10,
   "id": "f35e5490",
   "metadata": {},
   "outputs": [],
   "source": [
    "TopBusiLapt=driver.find_element(By.XPATH,'/html/body/div[1]/div[3]/div/div[2]/div[1]/div[3]/div[5]/p/a')#url for laptop\n",
    "TopBusiLapt.click()"
   ]
  },
  {
   "cell_type": "code",
   "execution_count": 46,
   "id": "bda433b8",
   "metadata": {},
   "outputs": [],
   "source": [
    "Brands=[]\n",
    "Products_Specification=[]\n",
    "Price_Stock=[]"
   ]
  },
  {
   "cell_type": "code",
   "execution_count": 47,
   "id": "4723ca73",
   "metadata": {},
   "outputs": [
    {
     "data": {
      "text/plain": [
       "8"
      ]
     },
     "execution_count": 47,
     "metadata": {},
     "output_type": "execute_result"
    }
   ],
   "source": [
    "br=driver.find_elements(By.XPATH,'//div[@class=\"rh_gr_top_middle mb10 colored_rate_bar\"]')#scraping brand and lenth check\n",
    "len(br)"
   ]
  },
  {
   "cell_type": "code",
   "execution_count": 48,
   "id": "e7ad30e4",
   "metadata": {},
   "outputs": [
    {
     "data": {
      "text/plain": [
       "['ASUS Vivobook K15 OLED Ryzen 5-5500U (KM513UA-L512WS)',\n",
       " 'realme Book Prime 11th Gen Core i5-11320H (CloudPro002)',\n",
       " 'ASUS Vivobook S14 OLED S3402ZA-KM501WS 12th Gen Core i5-12500H',\n",
       " 'ASUS Vivobook Pro 16 OLED 13th Gen Core i5-13500H (K6602VU-LZ542WS)',\n",
       " 'Lenovo Yoga Slim 7i Carbon 12th Gen Core i7-1260P (82U90080IN)',\n",
       " 'Apple MacBook Pro MNEQ3HN/A (2022)',\n",
       " 'Samsung Galaxy Book3 Pro NP940XFG-KC5IN 13th Gen Core i7-1360P',\n",
       " 'Apple MacBook Pro (MK1F3HN/A)']"
      ]
     },
     "execution_count": 48,
     "metadata": {},
     "output_type": "execute_result"
    }
   ],
   "source": [
    "for i in br:\n",
    "   \n",
    "    Brands.append(str(i.text).replace(\"\\n\",\"\"))      #Getting brand data\n",
    "Brands"
   ]
  },
  {
   "cell_type": "code",
   "execution_count": 49,
   "id": "1edc7716",
   "metadata": {},
   "outputs": [
    {
     "data": {
      "text/plain": [
       "11"
      ]
     },
     "execution_count": 49,
     "metadata": {},
     "output_type": "execute_result"
    }
   ],
   "source": [
    "sp=driver.find_elements(By.XPATH,'//div[@class=\"col-md-5 col-sm-5 col-xs-12 cegg-desc-cell hidden-xs\"]') #For product specification\n",
    "len(sp)"
   ]
  },
  {
   "cell_type": "code",
   "execution_count": 54,
   "id": "494152a7",
   "metadata": {},
   "outputs": [
    {
     "data": {
      "text/plain": [
       "['ASUS VivoBook K15 OLED Ryzen 5 Hexa Core AMD R5-5500U - (16 GB/512 GB SSD/Windows 11 Home)...',\n",
       " 'ASUS Vivobook S14 OLED (2022) Intel EVO Core i5 12th Gen - (16 GB/512 GB SSD/Windows 11 Home)...',\n",
       " 'ASUS Creator Series Vivobook Pro 16 OLED 2023, Intel Core i5-13500H 13th Gen, 16.0-inch 3.2K...',\n",
       " 'Apple 2022 MacBook Pro Laptop with M2 chip: 33.74 cm (13.3-inch) Retina Display, 8GB RAM, 512GB...',\n",
       " 'Samsung Galaxy Book3 Pro Intel 13th Gen i7 EvoTM 35.56cm(14\") Dynamic Amoled 2X, 3K Display,...',\n",
       " 'Apple 2021 MacBook Pro (16-inch/41.05 cm, M1 Pro chip with 10‑core CPU and 16‑core GPU, 16GB RAM,...',\n",
       " '',\n",
       " '']"
      ]
     },
     "execution_count": 54,
     "metadata": {},
     "output_type": "execute_result"
    }
   ],
   "source": [
    "for i in sp:\n",
    "   \n",
    "    Products_Specification.append(str(i.text))\n",
    "Product_Det=Products_Specification[:8]\n",
    "Product_Det"
   ]
  },
  {
   "cell_type": "code",
   "execution_count": 51,
   "id": "18c702c3",
   "metadata": {},
   "outputs": [
    {
     "data": {
      "text/plain": [
       "11"
      ]
     },
     "execution_count": 51,
     "metadata": {},
     "output_type": "execute_result"
    }
   ],
   "source": [
    "pr=driver.find_elements(By.XPATH,'//div[@class=\"cegg-price-row\"]')#Getting the price and stock details\n",
    "len(pr)"
   ]
  },
  {
   "cell_type": "code",
   "execution_count": 55,
   "id": "84291886",
   "metadata": {},
   "outputs": [
    {
     "data": {
      "text/plain": [
       "['out of stock',\n",
       " 'out of stock',\n",
       " 'Rs. 110,000Rs. 130,000in stock',\n",
       " 'out of stock',\n",
       " 'Rs. 140,990Rs. 194,990in stock',\n",
       " 'out of stock',\n",
       " 'Rs. 9,499Rs. 14,999in stock',\n",
       " 'Rs. 14,990Rs. 17,990in stock']"
      ]
     },
     "execution_count": 55,
     "metadata": {},
     "output_type": "execute_result"
    }
   ],
   "source": [
    "for i in pr:\n",
    "   \n",
    "    Price.append(str(i.text).replace(\"\\n\",\"\"))\n",
    "Price_Stock=Price[:8]\n",
    "Price_Stock"
   ]
  },
  {
   "cell_type": "code",
   "execution_count": 53,
   "id": "aa7bae9d",
   "metadata": {},
   "outputs": [
    {
     "data": {
      "text/html": [
       "<div>\n",
       "<style scoped>\n",
       "    .dataframe tbody tr th:only-of-type {\n",
       "        vertical-align: middle;\n",
       "    }\n",
       "\n",
       "    .dataframe tbody tr th {\n",
       "        vertical-align: top;\n",
       "    }\n",
       "\n",
       "    .dataframe thead th {\n",
       "        text-align: right;\n",
       "    }\n",
       "</style>\n",
       "<table border=\"1\" class=\"dataframe\">\n",
       "  <thead>\n",
       "    <tr style=\"text-align: right;\">\n",
       "      <th></th>\n",
       "      <th>Brand Name</th>\n",
       "      <th>Product_Details</th>\n",
       "      <th>Price &amp; Stock Available</th>\n",
       "    </tr>\n",
       "  </thead>\n",
       "  <tbody>\n",
       "    <tr>\n",
       "      <th>0</th>\n",
       "      <td>ASUS Vivobook K15 OLED Ryzen 5-5500U (KM513UA-...</td>\n",
       "      <td>ASUS VivoBook K15 OLED Ryzen 5 Hexa Core AMD R...</td>\n",
       "      <td>out of stock</td>\n",
       "    </tr>\n",
       "    <tr>\n",
       "      <th>1</th>\n",
       "      <td>realme Book Prime 11th Gen Core i5-11320H (Clo...</td>\n",
       "      <td>ASUS Vivobook S14 OLED (2022) Intel EVO Core i...</td>\n",
       "      <td>out of stock</td>\n",
       "    </tr>\n",
       "    <tr>\n",
       "      <th>2</th>\n",
       "      <td>ASUS Vivobook S14 OLED S3402ZA-KM501WS 12th Ge...</td>\n",
       "      <td>ASUS Creator Series Vivobook Pro 16 OLED 2023,...</td>\n",
       "      <td>Rs. 110,000Rs. 130,000in stock</td>\n",
       "    </tr>\n",
       "    <tr>\n",
       "      <th>3</th>\n",
       "      <td>ASUS Vivobook Pro 16 OLED 13th Gen Core i5-135...</td>\n",
       "      <td>Apple 2022 MacBook Pro Laptop with M2 chip: 33...</td>\n",
       "      <td>out of stock</td>\n",
       "    </tr>\n",
       "    <tr>\n",
       "      <th>4</th>\n",
       "      <td>Lenovo Yoga Slim 7i Carbon 12th Gen Core i7-12...</td>\n",
       "      <td>Samsung Galaxy Book3 Pro Intel 13th Gen i7 Evo...</td>\n",
       "      <td>Rs. 140,990Rs. 194,990in stock</td>\n",
       "    </tr>\n",
       "    <tr>\n",
       "      <th>5</th>\n",
       "      <td>Apple MacBook Pro MNEQ3HN/A (2022)</td>\n",
       "      <td>Apple 2021 MacBook Pro (16-inch/41.05 cm, M1 P...</td>\n",
       "      <td>out of stock</td>\n",
       "    </tr>\n",
       "    <tr>\n",
       "      <th>6</th>\n",
       "      <td>Samsung Galaxy Book3 Pro NP940XFG-KC5IN 13th G...</td>\n",
       "      <td></td>\n",
       "      <td>Rs. 9,499Rs. 14,999in stock</td>\n",
       "    </tr>\n",
       "    <tr>\n",
       "      <th>7</th>\n",
       "      <td>Apple MacBook Pro (MK1F3HN/A)</td>\n",
       "      <td></td>\n",
       "      <td>Rs. 14,990Rs. 17,990in stock</td>\n",
       "    </tr>\n",
       "  </tbody>\n",
       "</table>\n",
       "</div>"
      ],
      "text/plain": [
       "                                          Brand Name  \\\n",
       "0  ASUS Vivobook K15 OLED Ryzen 5-5500U (KM513UA-...   \n",
       "1  realme Book Prime 11th Gen Core i5-11320H (Clo...   \n",
       "2  ASUS Vivobook S14 OLED S3402ZA-KM501WS 12th Ge...   \n",
       "3  ASUS Vivobook Pro 16 OLED 13th Gen Core i5-135...   \n",
       "4  Lenovo Yoga Slim 7i Carbon 12th Gen Core i7-12...   \n",
       "5                 Apple MacBook Pro MNEQ3HN/A (2022)   \n",
       "6  Samsung Galaxy Book3 Pro NP940XFG-KC5IN 13th G...   \n",
       "7                      Apple MacBook Pro (MK1F3HN/A)   \n",
       "\n",
       "                                     Product_Details  \\\n",
       "0  ASUS VivoBook K15 OLED Ryzen 5 Hexa Core AMD R...   \n",
       "1  ASUS Vivobook S14 OLED (2022) Intel EVO Core i...   \n",
       "2  ASUS Creator Series Vivobook Pro 16 OLED 2023,...   \n",
       "3  Apple 2022 MacBook Pro Laptop with M2 chip: 33...   \n",
       "4  Samsung Galaxy Book3 Pro Intel 13th Gen i7 Evo...   \n",
       "5  Apple 2021 MacBook Pro (16-inch/41.05 cm, M1 P...   \n",
       "6                                                      \n",
       "7                                                      \n",
       "\n",
       "          Price & Stock Available  \n",
       "0                    out of stock  \n",
       "1                    out of stock  \n",
       "2  Rs. 110,000Rs. 130,000in stock  \n",
       "3                    out of stock  \n",
       "4  Rs. 140,990Rs. 194,990in stock  \n",
       "5                    out of stock  \n",
       "6     Rs. 9,499Rs. 14,999in stock  \n",
       "7    Rs. 14,990Rs. 17,990in stock  "
      ]
     },
     "execution_count": 53,
     "metadata": {},
     "output_type": "execute_result"
    }
   ],
   "source": [
    "#Making DataFrame for First 10 positions\n",
    "import pandas as pd\n",
    "df=pd.DataFrame({'Brand Name':Brands,'Product_Details':Product_Det,'Price & Stock Available':Price_Stock})\n",
    "df"
   ]
  },
  {
   "cell_type": "markdown",
   "id": "49d24d12",
   "metadata": {},
   "source": [
    "# Qu-9 .Write a python program to scrape a data for all available Hostels from https://www.hostelworld.com/ in \n",
    "“London” location. You have to scrape hostel name, distance from city centre, ratings, total reviews, overall \n",
    "reviews, privates from price, dorms from price, facilities and property description."
   ]
  },
  {
   "cell_type": "code",
   "execution_count": 56,
   "id": "052340e6",
   "metadata": {},
   "outputs": [],
   "source": [
    "from selenium import webdriver\n",
    "from selenium.webdriver.chrome.service import Service as ChromeService\n",
    "from webdriver_manager.chrome import ChromeDriverManager\n",
    "import re\n",
    "\n",
    "driver = webdriver.Chrome(service=ChromeService(ChromeDriverManager().install()))"
   ]
  },
  {
   "cell_type": "code",
   "execution_count": 57,
   "id": "808f7a13",
   "metadata": {},
   "outputs": [],
   "source": [
    "driver.get(\"https://www.hostelworld.com/ \")"
   ]
  },
  {
   "cell_type": "code",
   "execution_count": 58,
   "id": "d5812e37",
   "metadata": {},
   "outputs": [],
   "source": [
    "loc=driver.find_element(By.XPATH,'/html/body/div[3]/div/div/div[2]/div[6]/div/div[1]/a[1]/div/div[1]')\n",
    "loc.click()"
   ]
  },
  {
   "cell_type": "code",
   "execution_count": 59,
   "id": "1266843c",
   "metadata": {},
   "outputs": [],
   "source": [
    "hostel_name=[]\n",
    "Dist_citycenter=[]\n",
    "Rating=[]\n",
    "Total_Review=[]\n",
    "Overall_Review=[]\n",
    "Private_Price=[]\n",
    "Dorm_price=[]\n",
    "Facility_Prop=[]"
   ]
  },
  {
   "cell_type": "code",
   "execution_count": 62,
   "id": "3cbe264e",
   "metadata": {},
   "outputs": [
    {
     "name": "stdout",
     "output_type": "stream",
     "text": [
      "33 [\"St Christopher's Village\", 'Palmers Lodge - Swiss Cottage', \"Wombat's City Hostel London\", 'Onefam Waterloo', 'Onefam Notting Hill', 'Urbany Hostel London', 'Park Villa', \"Wombat's City Hostel London\", 'Barmy Badger Backpackers', 'Destinations Hostels @ The Gallery', 'YHA London Oxford Street', 'YHA London St Pauls', 'NX London Hostel', 'International Students House', 'Hostelle - women only hostel London', 'Palmers Lodge - Swiss Cottage', 'YHA London Earls Court', 'YHA London Central', 'Astor Kensington', 'Prime Backpackers Angel', 'Selina Camden', 'Astor Museum Inn', 'Smart Camden Inn Hostel', 'Astor Hyde Park', 'Kabannas London St Pancras', 'YHA London Thameside', 'The Backpackshack', 'London Backpackers', 'PubLove @ The Rose & Crown', \"St Christopher's Inn - Liverpool Street\", \"St Christopher's Inn - London Bridge\", 'Clink261', 'The Walrus Hostel']\n"
     ]
    }
   ],
   "source": [
    "#Scraping the Hostel names\n",
    "Host_name=driver.find_elements(By.XPATH,'//div[@class=\"property-name\"]')\n",
    "\n",
    "for i in Host_name:\n",
    "    hostel_name.append(str(i.text).replace(\"\\n\",\"\"))                       \n",
    "print(len(hostel_name),hostel_name)                         \n",
    "                               \n",
    "                               "
   ]
  },
  {
   "cell_type": "code",
   "execution_count": 73,
   "id": "b1d5f743",
   "metadata": {},
   "outputs": [
    {
     "name": "stdout",
     "output_type": "stream",
     "text": [
      "30 ['Onefam Waterloo', 'Onefam Notting Hill', 'Urbany Hostel London', 'Park Villa', \"Wombat's City Hostel London\", 'Barmy Badger Backpackers', 'Destinations Hostels @ The Gallery', 'YHA London Oxford Street', 'YHA London St Pauls', 'NX London Hostel', 'International Students House', 'Hostelle - women only hostel London', 'Palmers Lodge - Swiss Cottage', 'YHA London Earls Court', 'YHA London Central', 'Astor Kensington', 'Prime Backpackers Angel', 'Selina Camden', 'Astor Museum Inn', 'Smart Camden Inn Hostel', 'Astor Hyde Park', 'Kabannas London St Pancras', 'YHA London Thameside', 'The Backpackshack', 'London Backpackers', 'PubLove @ The Rose & Crown', \"St Christopher's Inn - Liverpool Street\", \"St Christopher's Inn - London Bridge\", 'Clink261', 'The Walrus Hostel']\n"
     ]
    }
   ],
   "source": [
    "#Scrapping only required data of Hostel names as first 3 are featured properties\n",
    "Hostel_name=hostel_name[3:34]\n",
    "print(len(Hostel_name),Hostel_name)"
   ]
  },
  {
   "cell_type": "code",
   "execution_count": 63,
   "id": "0df74bd6",
   "metadata": {},
   "outputs": [
    {
     "name": "stdout",
     "output_type": "stream",
     "text": [
      "30 ['- 0.65km from city centre', '- 5.47km from city centre', '- 5.39km from city centre', '- 6.32km from city centre', '- 3.57km from city centre', '- 5.51km from city centre', '- 1.72km from city centre', '- 2.14km from city centre', '- 1.86km from city centre', '- 6.15km from city centre', '- 3.26km from city centre', '- 5.07km from city centre', '- 6.5km from city centre', '- 5.14km from city centre', '- 2.89km from city centre', '- 4.92km from city centre', '- 3.61km from city centre', '- 5.47km from city centre', '- 2.24km from city centre', '- 4.38km from city centre', '- 4.34km from city centre', '- 3.27km from city centre', '- 4.93km from city centre', '- 10.86km from city centre', '- 11.9km from city centre', '- 1.6km from city centre', '- 3.17km from city centre', '- 1.78km from city centre', '- 3.24km from city centre', '- 0.18km from city centre']\n"
     ]
    }
   ],
   "source": [
    "#Scraping the Hostel from city centre\n",
    "Host_city=driver.find_elements(By.XPATH,'//span[@class=\"distance-description\"]')\n",
    "\n",
    "for i in Host_city:\n",
    "    Dist_citycenter.append(str(i.text).replace(\"\\n\",\"\"))                       \n",
    "print(len(Dist_citycenter),Dist_citycenter) "
   ]
  },
  {
   "cell_type": "code",
   "execution_count": 64,
   "id": "0771bd0d",
   "metadata": {},
   "outputs": [
    {
     "name": "stdout",
     "output_type": "stream",
     "text": [
      "34 ['7.8', '8.8', '9.1', '9.6', '9.6', '9.5', '9.3', '9.1', '9.1', '9.1', '9.0', '8.9', '8.9', '8.8', '8.8', '8.8', '8.7', '8.6', '8.6', '8.5', '8.5', '8.3', '8.3', '8.2', '8.2', '8.2', '8.2', '8.1', '8.0', '8.0', '8.0', '7.9', '7.9', '8.5']\n"
     ]
    }
   ],
   "source": [
    "#Scraping the Hostel Rating\n",
    "Host_rating=driver.find_elements(By.XPATH,'//span[@class=\"number\"]')\n",
    "\n",
    "for i in Host_rating:\n",
    "    Rating.append(str(i.text).replace(\"\\n\",\"\"))                       \n",
    "print(len(Rating),Rating) "
   ]
  },
  {
   "cell_type": "code",
   "execution_count": 76,
   "id": "4891f7fa",
   "metadata": {},
   "outputs": [
    {
     "name": "stdout",
     "output_type": "stream",
     "text": [
      "30 ['9.6', '9.6', '9.5', '9.3', '9.1', '9.1', '9.1', '9.0', '8.9', '8.9', '8.8', '8.8', '8.8', '8.7', '8.6', '8.6', '8.5', '8.5', '8.3', '8.3', '8.2', '8.2', '8.2', '8.2', '8.1', '8.0', '8.0', '8.0', '7.9', '7.9']\n"
     ]
    }
   ],
   "source": [
    "#Scrapping only required data of Hostel Rating as first 3 are featured properties\n",
    "Hostel_Rating=Rating[3:33]\n",
    "print(len(Hostel_Rating),Hostel_Rating)"
   ]
  },
  {
   "cell_type": "code",
   "execution_count": 65,
   "id": "f4504fa6",
   "metadata": {},
   "outputs": [
    {
     "name": "stdout",
     "output_type": "stream",
     "text": [
      "34 ['Very Good', 'Fabulous', 'Superb', 'Superb', 'Superb', 'Superb', 'Superb', 'Superb', 'Superb', 'Superb', 'Superb', 'Fabulous', 'Fabulous', 'Fabulous', 'Fabulous', 'Fabulous', 'Fabulous', 'Fabulous', 'Fabulous', 'Fabulous', 'Fabulous', 'Fabulous', 'Fabulous', 'Fabulous', 'Fabulous', 'Fabulous', 'Fabulous', 'Fabulous', 'Fabulous', 'Very Good', 'Very Good', 'Very Good', 'Very Good', 'Fabulous']\n"
     ]
    }
   ],
   "source": [
    "#Scraping the Hostel Overall Review\n",
    "Host_OR=driver.find_elements(By.XPATH,'//span[@class=\"keyword\"]')\n",
    "\n",
    "for i in Host_OR:\n",
    "    Overall_Review.append(str(i.text).replace(\"\\n\",\"\"))                       \n",
    "print(len(Overall_Review),Overall_Review)"
   ]
  },
  {
   "cell_type": "code",
   "execution_count": 77,
   "id": "c33d9cb6",
   "metadata": {},
   "outputs": [
    {
     "name": "stdout",
     "output_type": "stream",
     "text": [
      "30 ['Superb', 'Superb', 'Superb', 'Superb', 'Superb', 'Superb', 'Superb', 'Superb', 'Fabulous', 'Fabulous', 'Fabulous', 'Fabulous', 'Fabulous', 'Fabulous', 'Fabulous', 'Fabulous', 'Fabulous', 'Fabulous', 'Fabulous', 'Fabulous', 'Fabulous', 'Fabulous', 'Fabulous', 'Fabulous', 'Fabulous', 'Fabulous', 'Very Good', 'Very Good', 'Very Good', 'Very Good']\n"
     ]
    }
   ],
   "source": [
    "#Scrapping only required data of overall Rating as first 3 are featured properties\n",
    "Hostel_Overall_Rating=Overall_Review[3:33]\n",
    "print(len(Hostel_Overall_Rating),Hostel_Overall_Rating)"
   ]
  },
  {
   "cell_type": "code",
   "execution_count": 66,
   "id": "2181dc84",
   "metadata": {},
   "outputs": [
    {
     "name": "stdout",
     "output_type": "stream",
     "text": [
      "33 ['(12873)', '(15977)', '(15905)', '(135)', '(2593)', '(1125)', '(931)', '(15901)', '(2041)', '(317)', '(4703)', '(2115)', '(2146)', '(1097)', '(116)', '(15972)', '(1489)', '(4787)', '(6595)', '(871)', '(68)', '(9455)', '(3143)', '(12327)', '(2977)', '(540)', '(789)', '(4568)', '(229)', '(557)', '(3602)', '(515)', '(4302)']\n"
     ]
    }
   ],
   "source": [
    "#Scraping the Hostel Total Reviews\n",
    "Host_TR=driver.find_elements(By.XPATH,'//span[@class=\"left-margin\"]')\n",
    "\n",
    "for i in Host_TR:\n",
    "    Total_Review.append(str(i.text).replace(\"\\n\",\"\"))                       \n",
    "print(len(Total_Review),Total_Review)"
   ]
  },
  {
   "cell_type": "code",
   "execution_count": 79,
   "id": "818f7ab5",
   "metadata": {},
   "outputs": [
    {
     "name": "stdout",
     "output_type": "stream",
     "text": [
      "30 ['(135)', '(2593)', '(1125)', '(931)', '(15901)', '(2041)', '(317)', '(4703)', '(2115)', '(2146)', '(1097)', '(116)', '(15972)', '(1489)', '(4787)', '(6595)', '(871)', '(68)', '(9455)', '(3143)', '(12327)', '(2977)', '(540)', '(789)', '(4568)', '(229)', '(557)', '(3602)', '(515)', '(4302)']\n"
     ]
    }
   ],
   "source": [
    "#Scrapping only required data of Hostel Total Reviews as first 3 are featured properties\n",
    "Hostel_Total_Review=Total_Review[3:33]\n",
    "print(len(Hostel_Total_Review),Hostel_Total_Review)"
   ]
  },
  {
   "cell_type": "code",
   "execution_count": 70,
   "id": "72cd53db",
   "metadata": {},
   "outputs": [
    {
     "name": "stdout",
     "output_type": "stream",
     "text": [
      "57 ['Rs2733.73', 'Rs2186.98', 'Rs3709.91', 'Rs1541.78', 'Rs4209.52', 'Rs1791.06', 'Rs3922.53', 'Rs2853.13', 'Rs2618.51', 'Rs2932.73', 'Rs3142.22', 'Rs2513.77', 'Rs3142.22', 'Rs3136.98', 'Rs2356.66', 'Rs2618.51', 'Rs1396.19', 'Rs2618.51', 'Rs1791.06', 'Rs1289.36', 'Rs4451.47', 'Rs1885.33', 'Rs1021.22', 'Rs2985.10', 'Rs1396.19', 'Rs2094.81', 'Rs1252.70', 'Rs2094.81', 'Rs1544.92', 'Rs1256.89', 'Rs3606.22', 'Rs2859.42', 'Rs4826.44', 'Rs4022.04', 'Rs5184.66', 'Rs1539.69', 'Rs1508.26', 'Rs1263.17', 'Rs3089.85', 'Rs1256.89', 'Rs5184.66', 'Rs2618.51', 'Rs1047.41', 'Rs1885.33', 'Rs2094.81', 'Rs2356.66', 'Rs1361.63', 'Rs2168.13', 'Rs2168.13', 'Rs3371.60', 'Rs1848.67', 'Rs2790.29', 'Rs1616.15', 'Rs2309.53', 'Rs1696.80', 'Rs4713.32', 'Rs2566.14']\n"
     ]
    }
   ],
   "source": [
    "#Scraping the Hostel Private Price\n",
    "Host_PP=driver.find_elements(By.XPATH,'//div[@class=\"accommodation-price single-row\"]')\n",
    "\n",
    "for i in Host_PP:\n",
    "    Private_Price.append((i.text).replace(\"\\n\",\"\"))                       \n",
    "print(len(Private_Price),Private_Price)"
   ]
  },
  {
   "cell_type": "code",
   "execution_count": 71,
   "id": "3778fa64",
   "metadata": {},
   "outputs": [
    {
     "name": "stdout",
     "output_type": "stream",
     "text": [
      "30 ['Welcome to Onefam Waterloo', 'The perfect place for solo travelers to connect, explore and party! Join the Onefam Family and let us show you the beautiful city of London! What really makes our hostel unique and what has helped us win HostelWorld awards year after year, are our amazing...', 'Urbany Hostel London offers a perfect spot to explore the city in a typical Victorian terraced house in Notting Hill. Guests can enjoy free Wi-Fi, luggage storage, towel rental, basic laundry service and CCTV for security.', 'Park Villa offers luxurious accommodation with customised bunk bed pods, grand plantation shutters and oak wood floors. It also features a secure environment with electronic entry systems, cameras and reception.', \"Our Wombat's City Hostel is located in the London Borough of Tower Hamlets, right next to the famous Tower Bridge and Tower of London, charming markets, authentic pubs and many other places of historical interest.\", 'The Badger features 2 dogs, complimentary breakfast, 120 megabyte WiFi, USB ports in all rooms, personal lockers with laptop safety, tea and coffee all day, bbq and garden access, luggage storage', 'Destinations Hostels @ The Gallery is 10min walk from the Tate Britain museum. 15 mins walk from Big Ben, Westminster Abbey, the London Eye and Buckingham palace and 20mins from Trafalgar square.', 'YHA Oxford Street offers a quiet escape from the city and various rooms with shared facilities. Free Wi-Fi in communal areas and a £5.95 breakfast price are available.', \"YHA London St Pauls offers a unique experience with its location opposite St. Paul's Cathedral and close to many of London's top attractions. It also has a range of activities like free walking tours, pub crawls, group trips to West End shows, and more.\", 'NX London Hostel offers a variety of rooms, including small dorms and private rooms. It features free Wi-Fi, complimentary breakfast, lockers, and ear plugs. It also has a pub next door with live music and sports events.', 'International Students House provides affordable accommodation in Central London, with a variety of room types and a vibrant student centre with free amenities.', 'Near the Hostelle you will find the London Wall at 2.8 km, the Tower Bridge at 3.3 km, the London Eye at 5.7 km, the Trafalgar Square at 5.7 km, the Sra Life Centre London Aquarium at 5.9 km, and the Sky Garden at 2.8 km, among other attractions.', 'Whether you?re a Backpacker or a Budget traveller with excellent taste, you will enjoy Palmers Lodges Swiss Cottage, the grand charm of this historic building', \"YHA London Earl's Court offers a convenient base for exploring London with easy access to Heathrow and Gatwick, as well as nearby attractions like the Royal Albert Hall, Natural History Museum\", 'We offer seven floors of modern, stylish, budget accommodation and is situated just five minutes walk from Oxford Street.', 'Located a short walk from Notting Hill, Hyde Park and Kensington Palace (home of William, Kate, and the Royal Babies!) it is easy to see why so many people fall in love with this neighbourhood.', 'The hostel is housed in a historic building in beautiful Angel (borough of Islington). Our goal is to', 'Selina offers a great guest experience with a 24-hour front desk, flexible cancellations, a no-shows policy, and payment upon arrival. It also features a communal kitchen, a loft with a balcony, and a vegan eatery.', \"This hostel's great location near the British Museum, 24-hour reception, CCTV, storage lockers, free WiFi, dining room, common area, lounge with sofas, free city maps, and discounts\", 'Located in the middle of Camden Town, we’re the closest hostel to Camden Markets and if you’re angling for access to all the partying and good times you could want, without compromising on security, comfort, and cleanliness, then we’re where you want to be!...', \"Located in the most beautiful and charming neighbourhood in London, Astor Hyde Park is one minute from Hyde Park and surrounded by some of London's greatest museums\", \"We're a four-star hostel at the heart of the bus and underground networks making it easy to travel around the city.\", 'High standard of living for the budget traveller. All our rooms have excellent en-suite facilities. We are suitable for all, groups, individuals or a families.', 'The property offers a range of amenities, including a traditional English pub, double and twin rooms, shared rooms, free WIFI, a kitchen, bathrooms with hot water, and a nearby supermarket. It also allows check-in from 9:00 to 24:00.', 'IMPORTANT NOTICE: ALL BOOKINGS THAT FALL BETWEEN 28TH DEC 2022 - 2ND JAN 2023 WILL BE CHARGED IN ADVA', 'Food & culture lovers, assemble! The Rose & Crown is the perfect base to wander the incredible streets of London?s effortlessly cool Southbank.', 'COVID 19 Policy Update. In response to Coronavirus (COVID-19), additional safety and sanitation measures', 'The best features of the property include its convenient location near attractions such as the London Eye and Tower Bridge, as well as its modern bathrooms and bedrooms and traditional pub downstairs.', 'Clink261 is a great choice for travelers seeking comfort and convenience, offering free Wi-Fi, British-themed interiors, 24/7 reception, and discounted tickets on tours and attractions.', \"The Walrus Hostel offers a convenient location near many of London's famous landmarks, a fully equipped guest kitchen, a traditional English pub, and a safe environment for those under 18s when accompanied by a guardian.\"]\n"
     ]
    }
   ],
   "source": [
    "#Scraping the Hostel Facility, property details\n",
    "Host_PF=driver.find_elements(By.XPATH,'//div[@class=\"property-description\"]')\n",
    "\n",
    "for i in Host_PF:\n",
    "    Facility_Prop.append((i.text).replace(\"\\n\",\"\"))                       \n",
    "print(len(Facility_Prop),Facility_Prop)"
   ]
  },
  {
   "cell_type": "code",
   "execution_count": 80,
   "id": "233d6016",
   "metadata": {},
   "outputs": [
    {
     "data": {
      "text/html": [
       "<div>\n",
       "<style scoped>\n",
       "    .dataframe tbody tr th:only-of-type {\n",
       "        vertical-align: middle;\n",
       "    }\n",
       "\n",
       "    .dataframe tbody tr th {\n",
       "        vertical-align: top;\n",
       "    }\n",
       "\n",
       "    .dataframe thead th {\n",
       "        text-align: right;\n",
       "    }\n",
       "</style>\n",
       "<table border=\"1\" class=\"dataframe\">\n",
       "  <thead>\n",
       "    <tr style=\"text-align: right;\">\n",
       "      <th></th>\n",
       "      <th>Hostel_Name</th>\n",
       "      <th>Distance from city centre</th>\n",
       "      <th>Ratings</th>\n",
       "      <th>Overall_Reviews</th>\n",
       "      <th>Total_Reviews</th>\n",
       "      <th>Facilities and property description</th>\n",
       "    </tr>\n",
       "  </thead>\n",
       "  <tbody>\n",
       "    <tr>\n",
       "      <th>0</th>\n",
       "      <td>Onefam Waterloo</td>\n",
       "      <td>- 0.65km from city centre</td>\n",
       "      <td>9.6</td>\n",
       "      <td>Superb</td>\n",
       "      <td>(135)</td>\n",
       "      <td>Welcome to Onefam Waterloo</td>\n",
       "    </tr>\n",
       "    <tr>\n",
       "      <th>1</th>\n",
       "      <td>Onefam Notting Hill</td>\n",
       "      <td>- 5.47km from city centre</td>\n",
       "      <td>9.6</td>\n",
       "      <td>Superb</td>\n",
       "      <td>(2593)</td>\n",
       "      <td>The perfect place for solo travelers to connec...</td>\n",
       "    </tr>\n",
       "    <tr>\n",
       "      <th>2</th>\n",
       "      <td>Urbany Hostel London</td>\n",
       "      <td>- 5.39km from city centre</td>\n",
       "      <td>9.5</td>\n",
       "      <td>Superb</td>\n",
       "      <td>(1125)</td>\n",
       "      <td>Urbany Hostel London offers a perfect spot to ...</td>\n",
       "    </tr>\n",
       "    <tr>\n",
       "      <th>3</th>\n",
       "      <td>Park Villa</td>\n",
       "      <td>- 6.32km from city centre</td>\n",
       "      <td>9.3</td>\n",
       "      <td>Superb</td>\n",
       "      <td>(931)</td>\n",
       "      <td>Park Villa offers luxurious accommodation with...</td>\n",
       "    </tr>\n",
       "    <tr>\n",
       "      <th>4</th>\n",
       "      <td>Wombat's City Hostel London</td>\n",
       "      <td>- 3.57km from city centre</td>\n",
       "      <td>9.1</td>\n",
       "      <td>Superb</td>\n",
       "      <td>(15901)</td>\n",
       "      <td>Our Wombat's City Hostel is located in the Lon...</td>\n",
       "    </tr>\n",
       "    <tr>\n",
       "      <th>5</th>\n",
       "      <td>Barmy Badger Backpackers</td>\n",
       "      <td>- 5.51km from city centre</td>\n",
       "      <td>9.1</td>\n",
       "      <td>Superb</td>\n",
       "      <td>(2041)</td>\n",
       "      <td>The Badger features 2 dogs, complimentary brea...</td>\n",
       "    </tr>\n",
       "    <tr>\n",
       "      <th>6</th>\n",
       "      <td>Destinations Hostels @ The Gallery</td>\n",
       "      <td>- 1.72km from city centre</td>\n",
       "      <td>9.1</td>\n",
       "      <td>Superb</td>\n",
       "      <td>(317)</td>\n",
       "      <td>Destinations Hostels @ The Gallery is 10min wa...</td>\n",
       "    </tr>\n",
       "    <tr>\n",
       "      <th>7</th>\n",
       "      <td>YHA London Oxford Street</td>\n",
       "      <td>- 2.14km from city centre</td>\n",
       "      <td>9.0</td>\n",
       "      <td>Superb</td>\n",
       "      <td>(4703)</td>\n",
       "      <td>YHA Oxford Street offers a quiet escape from t...</td>\n",
       "    </tr>\n",
       "    <tr>\n",
       "      <th>8</th>\n",
       "      <td>YHA London St Pauls</td>\n",
       "      <td>- 1.86km from city centre</td>\n",
       "      <td>8.9</td>\n",
       "      <td>Fabulous</td>\n",
       "      <td>(2115)</td>\n",
       "      <td>YHA London St Pauls offers a unique experience...</td>\n",
       "    </tr>\n",
       "    <tr>\n",
       "      <th>9</th>\n",
       "      <td>NX London Hostel</td>\n",
       "      <td>- 6.15km from city centre</td>\n",
       "      <td>8.9</td>\n",
       "      <td>Fabulous</td>\n",
       "      <td>(2146)</td>\n",
       "      <td>NX London Hostel offers a variety of rooms, in...</td>\n",
       "    </tr>\n",
       "    <tr>\n",
       "      <th>10</th>\n",
       "      <td>International Students House</td>\n",
       "      <td>- 3.26km from city centre</td>\n",
       "      <td>8.8</td>\n",
       "      <td>Fabulous</td>\n",
       "      <td>(1097)</td>\n",
       "      <td>International Students House provides affordab...</td>\n",
       "    </tr>\n",
       "    <tr>\n",
       "      <th>11</th>\n",
       "      <td>Hostelle - women only hostel London</td>\n",
       "      <td>- 5.07km from city centre</td>\n",
       "      <td>8.8</td>\n",
       "      <td>Fabulous</td>\n",
       "      <td>(116)</td>\n",
       "      <td>Near the Hostelle you will find the London Wal...</td>\n",
       "    </tr>\n",
       "    <tr>\n",
       "      <th>12</th>\n",
       "      <td>Palmers Lodge - Swiss Cottage</td>\n",
       "      <td>- 6.5km from city centre</td>\n",
       "      <td>8.8</td>\n",
       "      <td>Fabulous</td>\n",
       "      <td>(15972)</td>\n",
       "      <td>Whether you?re a Backpacker or a Budget travel...</td>\n",
       "    </tr>\n",
       "    <tr>\n",
       "      <th>13</th>\n",
       "      <td>YHA London Earls Court</td>\n",
       "      <td>- 5.14km from city centre</td>\n",
       "      <td>8.7</td>\n",
       "      <td>Fabulous</td>\n",
       "      <td>(1489)</td>\n",
       "      <td>YHA London Earl's Court offers a convenient ba...</td>\n",
       "    </tr>\n",
       "    <tr>\n",
       "      <th>14</th>\n",
       "      <td>YHA London Central</td>\n",
       "      <td>- 2.89km from city centre</td>\n",
       "      <td>8.6</td>\n",
       "      <td>Fabulous</td>\n",
       "      <td>(4787)</td>\n",
       "      <td>We offer seven floors of modern, stylish, budg...</td>\n",
       "    </tr>\n",
       "    <tr>\n",
       "      <th>15</th>\n",
       "      <td>Astor Kensington</td>\n",
       "      <td>- 4.92km from city centre</td>\n",
       "      <td>8.6</td>\n",
       "      <td>Fabulous</td>\n",
       "      <td>(6595)</td>\n",
       "      <td>Located a short walk from Notting Hill, Hyde P...</td>\n",
       "    </tr>\n",
       "    <tr>\n",
       "      <th>16</th>\n",
       "      <td>Prime Backpackers Angel</td>\n",
       "      <td>- 3.61km from city centre</td>\n",
       "      <td>8.5</td>\n",
       "      <td>Fabulous</td>\n",
       "      <td>(871)</td>\n",
       "      <td>The hostel is housed in a historic building in...</td>\n",
       "    </tr>\n",
       "    <tr>\n",
       "      <th>17</th>\n",
       "      <td>Selina Camden</td>\n",
       "      <td>- 5.47km from city centre</td>\n",
       "      <td>8.5</td>\n",
       "      <td>Fabulous</td>\n",
       "      <td>(68)</td>\n",
       "      <td>Selina offers a great guest experience with a ...</td>\n",
       "    </tr>\n",
       "    <tr>\n",
       "      <th>18</th>\n",
       "      <td>Astor Museum Inn</td>\n",
       "      <td>- 2.24km from city centre</td>\n",
       "      <td>8.3</td>\n",
       "      <td>Fabulous</td>\n",
       "      <td>(9455)</td>\n",
       "      <td>This hostel's great location near the British ...</td>\n",
       "    </tr>\n",
       "    <tr>\n",
       "      <th>19</th>\n",
       "      <td>Smart Camden Inn Hostel</td>\n",
       "      <td>- 4.38km from city centre</td>\n",
       "      <td>8.3</td>\n",
       "      <td>Fabulous</td>\n",
       "      <td>(3143)</td>\n",
       "      <td>Located in the middle of Camden Town, we’re th...</td>\n",
       "    </tr>\n",
       "    <tr>\n",
       "      <th>20</th>\n",
       "      <td>Astor Hyde Park</td>\n",
       "      <td>- 4.34km from city centre</td>\n",
       "      <td>8.2</td>\n",
       "      <td>Fabulous</td>\n",
       "      <td>(12327)</td>\n",
       "      <td>Located in the most beautiful and charming nei...</td>\n",
       "    </tr>\n",
       "    <tr>\n",
       "      <th>21</th>\n",
       "      <td>Kabannas London St Pancras</td>\n",
       "      <td>- 3.27km from city centre</td>\n",
       "      <td>8.2</td>\n",
       "      <td>Fabulous</td>\n",
       "      <td>(2977)</td>\n",
       "      <td>We're a four-star hostel at the heart of the b...</td>\n",
       "    </tr>\n",
       "    <tr>\n",
       "      <th>22</th>\n",
       "      <td>YHA London Thameside</td>\n",
       "      <td>- 4.93km from city centre</td>\n",
       "      <td>8.2</td>\n",
       "      <td>Fabulous</td>\n",
       "      <td>(540)</td>\n",
       "      <td>High standard of living for the budget travell...</td>\n",
       "    </tr>\n",
       "    <tr>\n",
       "      <th>23</th>\n",
       "      <td>The Backpackshack</td>\n",
       "      <td>- 10.86km from city centre</td>\n",
       "      <td>8.2</td>\n",
       "      <td>Fabulous</td>\n",
       "      <td>(789)</td>\n",
       "      <td>The property offers a range of amenities, incl...</td>\n",
       "    </tr>\n",
       "    <tr>\n",
       "      <th>24</th>\n",
       "      <td>London Backpackers</td>\n",
       "      <td>- 11.9km from city centre</td>\n",
       "      <td>8.1</td>\n",
       "      <td>Fabulous</td>\n",
       "      <td>(4568)</td>\n",
       "      <td>IMPORTANT NOTICE: ALL BOOKINGS THAT FALL BETWE...</td>\n",
       "    </tr>\n",
       "    <tr>\n",
       "      <th>25</th>\n",
       "      <td>PubLove @ The Rose &amp; Crown</td>\n",
       "      <td>- 1.6km from city centre</td>\n",
       "      <td>8.0</td>\n",
       "      <td>Fabulous</td>\n",
       "      <td>(229)</td>\n",
       "      <td>Food &amp; culture lovers, assemble! The Rose &amp; Cr...</td>\n",
       "    </tr>\n",
       "    <tr>\n",
       "      <th>26</th>\n",
       "      <td>St Christopher's Inn - Liverpool Street</td>\n",
       "      <td>- 3.17km from city centre</td>\n",
       "      <td>8.0</td>\n",
       "      <td>Very Good</td>\n",
       "      <td>(557)</td>\n",
       "      <td>COVID 19 Policy Update. In response to Coronav...</td>\n",
       "    </tr>\n",
       "    <tr>\n",
       "      <th>27</th>\n",
       "      <td>St Christopher's Inn - London Bridge</td>\n",
       "      <td>- 1.78km from city centre</td>\n",
       "      <td>8.0</td>\n",
       "      <td>Very Good</td>\n",
       "      <td>(3602)</td>\n",
       "      <td>The best features of the property include its ...</td>\n",
       "    </tr>\n",
       "    <tr>\n",
       "      <th>28</th>\n",
       "      <td>Clink261</td>\n",
       "      <td>- 3.24km from city centre</td>\n",
       "      <td>7.9</td>\n",
       "      <td>Very Good</td>\n",
       "      <td>(515)</td>\n",
       "      <td>Clink261 is a great choice for travelers seeki...</td>\n",
       "    </tr>\n",
       "    <tr>\n",
       "      <th>29</th>\n",
       "      <td>The Walrus Hostel</td>\n",
       "      <td>- 0.18km from city centre</td>\n",
       "      <td>7.9</td>\n",
       "      <td>Very Good</td>\n",
       "      <td>(4302)</td>\n",
       "      <td>The Walrus Hostel offers a convenient location...</td>\n",
       "    </tr>\n",
       "  </tbody>\n",
       "</table>\n",
       "</div>"
      ],
      "text/plain": [
       "                                Hostel_Name   Distance from city centre  \\\n",
       "0                           Onefam Waterloo   - 0.65km from city centre   \n",
       "1                       Onefam Notting Hill   - 5.47km from city centre   \n",
       "2                      Urbany Hostel London   - 5.39km from city centre   \n",
       "3                                Park Villa   - 6.32km from city centre   \n",
       "4               Wombat's City Hostel London   - 3.57km from city centre   \n",
       "5                  Barmy Badger Backpackers   - 5.51km from city centre   \n",
       "6        Destinations Hostels @ The Gallery   - 1.72km from city centre   \n",
       "7                  YHA London Oxford Street   - 2.14km from city centre   \n",
       "8                       YHA London St Pauls   - 1.86km from city centre   \n",
       "9                          NX London Hostel   - 6.15km from city centre   \n",
       "10             International Students House   - 3.26km from city centre   \n",
       "11      Hostelle - women only hostel London   - 5.07km from city centre   \n",
       "12            Palmers Lodge - Swiss Cottage    - 6.5km from city centre   \n",
       "13                   YHA London Earls Court   - 5.14km from city centre   \n",
       "14                       YHA London Central   - 2.89km from city centre   \n",
       "15                         Astor Kensington   - 4.92km from city centre   \n",
       "16                  Prime Backpackers Angel   - 3.61km from city centre   \n",
       "17                            Selina Camden   - 5.47km from city centre   \n",
       "18                         Astor Museum Inn   - 2.24km from city centre   \n",
       "19                  Smart Camden Inn Hostel   - 4.38km from city centre   \n",
       "20                          Astor Hyde Park   - 4.34km from city centre   \n",
       "21               Kabannas London St Pancras   - 3.27km from city centre   \n",
       "22                     YHA London Thameside   - 4.93km from city centre   \n",
       "23                        The Backpackshack  - 10.86km from city centre   \n",
       "24                       London Backpackers   - 11.9km from city centre   \n",
       "25               PubLove @ The Rose & Crown    - 1.6km from city centre   \n",
       "26  St Christopher's Inn - Liverpool Street   - 3.17km from city centre   \n",
       "27     St Christopher's Inn - London Bridge   - 1.78km from city centre   \n",
       "28                                 Clink261   - 3.24km from city centre   \n",
       "29                        The Walrus Hostel   - 0.18km from city centre   \n",
       "\n",
       "   Ratings Overall_Reviews Total_Reviews  \\\n",
       "0      9.6          Superb         (135)   \n",
       "1      9.6          Superb        (2593)   \n",
       "2      9.5          Superb        (1125)   \n",
       "3      9.3          Superb         (931)   \n",
       "4      9.1          Superb       (15901)   \n",
       "5      9.1          Superb        (2041)   \n",
       "6      9.1          Superb         (317)   \n",
       "7      9.0          Superb        (4703)   \n",
       "8      8.9        Fabulous        (2115)   \n",
       "9      8.9        Fabulous        (2146)   \n",
       "10     8.8        Fabulous        (1097)   \n",
       "11     8.8        Fabulous         (116)   \n",
       "12     8.8        Fabulous       (15972)   \n",
       "13     8.7        Fabulous        (1489)   \n",
       "14     8.6        Fabulous        (4787)   \n",
       "15     8.6        Fabulous        (6595)   \n",
       "16     8.5        Fabulous         (871)   \n",
       "17     8.5        Fabulous          (68)   \n",
       "18     8.3        Fabulous        (9455)   \n",
       "19     8.3        Fabulous        (3143)   \n",
       "20     8.2        Fabulous       (12327)   \n",
       "21     8.2        Fabulous        (2977)   \n",
       "22     8.2        Fabulous         (540)   \n",
       "23     8.2        Fabulous         (789)   \n",
       "24     8.1        Fabulous        (4568)   \n",
       "25     8.0        Fabulous         (229)   \n",
       "26     8.0       Very Good         (557)   \n",
       "27     8.0       Very Good        (3602)   \n",
       "28     7.9       Very Good         (515)   \n",
       "29     7.9       Very Good        (4302)   \n",
       "\n",
       "                  Facilities and property description  \n",
       "0                          Welcome to Onefam Waterloo  \n",
       "1   The perfect place for solo travelers to connec...  \n",
       "2   Urbany Hostel London offers a perfect spot to ...  \n",
       "3   Park Villa offers luxurious accommodation with...  \n",
       "4   Our Wombat's City Hostel is located in the Lon...  \n",
       "5   The Badger features 2 dogs, complimentary brea...  \n",
       "6   Destinations Hostels @ The Gallery is 10min wa...  \n",
       "7   YHA Oxford Street offers a quiet escape from t...  \n",
       "8   YHA London St Pauls offers a unique experience...  \n",
       "9   NX London Hostel offers a variety of rooms, in...  \n",
       "10  International Students House provides affordab...  \n",
       "11  Near the Hostelle you will find the London Wal...  \n",
       "12  Whether you?re a Backpacker or a Budget travel...  \n",
       "13  YHA London Earl's Court offers a convenient ba...  \n",
       "14  We offer seven floors of modern, stylish, budg...  \n",
       "15  Located a short walk from Notting Hill, Hyde P...  \n",
       "16  The hostel is housed in a historic building in...  \n",
       "17  Selina offers a great guest experience with a ...  \n",
       "18  This hostel's great location near the British ...  \n",
       "19  Located in the middle of Camden Town, we’re th...  \n",
       "20  Located in the most beautiful and charming nei...  \n",
       "21  We're a four-star hostel at the heart of the b...  \n",
       "22  High standard of living for the budget travell...  \n",
       "23  The property offers a range of amenities, incl...  \n",
       "24  IMPORTANT NOTICE: ALL BOOKINGS THAT FALL BETWE...  \n",
       "25  Food & culture lovers, assemble! The Rose & Cr...  \n",
       "26  COVID 19 Policy Update. In response to Coronav...  \n",
       "27  The best features of the property include its ...  \n",
       "28  Clink261 is a great choice for travelers seeki...  \n",
       "29  The Walrus Hostel offers a convenient location...  "
      ]
     },
     "execution_count": 80,
     "metadata": {},
     "output_type": "execute_result"
    }
   ],
   "source": [
    "#Making the DataFrame\n",
    "import pandas as pd\n",
    "df=pd.DataFrame({'Hostel_Name':Hostel_name,'Distance from city centre':Dist_citycenter,'Ratings':Hostel_Rating, 'Overall_Reviews':Hostel_Overall_Rating,'Total_Reviews':Hostel_Total_Review,'Facilities and property description':Facility_Prop})\n",
    "df"
   ]
  },
  {
   "cell_type": "markdown",
   "id": "9211acc0",
   "metadata": {},
   "source": [
    "# Qu-1. Write a python program which searches all the product under a particular product vertical from www.amazon.in. The product verticals to be searched will be taken as input from user.\n",
    "For e.g. If user input is ‘guitar’. Then search for guitars.\n"
   ]
  },
  {
   "cell_type": "markdown",
   "id": "0253fa21",
   "metadata": {},
   "source": [
    "# Qu-2 In the above question, now scrape the following details of each product listed in first 3 pages of your search \n",
    "results and save it in a data frame and csv. In case if any product has less than 3 pages in search results then \n",
    "scrape all the products available under that product name. Details to be scraped are: \"Brand \n",
    "Name\", \"Name of the Product\", \"Price\", \"Return/Exchange\", \"Expected Delivery\", \"Availability\" and \n",
    "“Product URL”. In case, if any of the details are missing for any of the product then replace it by “-“. "
   ]
  },
  {
   "cell_type": "code",
   "execution_count": 81,
   "id": "750afd09",
   "metadata": {},
   "outputs": [],
   "source": [
    "from selenium import webdriver\n",
    "from selenium.webdriver.chrome.service import Service as ChromeService\n",
    "from webdriver_manager.chrome import ChromeDriverManager\n",
    "\n",
    "driver = webdriver.Chrome(service=ChromeService(ChromeDriverManager().install()))"
   ]
  },
  {
   "cell_type": "code",
   "execution_count": 82,
   "id": "371e8738",
   "metadata": {},
   "outputs": [],
   "source": [
    "driver.get('https://www.amazon.in/')"
   ]
  },
  {
   "cell_type": "code",
   "execution_count": 83,
   "id": "b0c04ae2",
   "metadata": {},
   "outputs": [
    {
     "name": "stdout",
     "output_type": "stream",
     "text": [
      "please enter product here--->guitar\n"
     ]
    }
   ],
   "source": [
    "inputU = input('please enter product here--->')"
   ]
  },
  {
   "cell_type": "code",
   "execution_count": 84,
   "id": "a761c98b",
   "metadata": {},
   "outputs": [],
   "source": [
    "from selenium.webdriver.common.by import By"
   ]
  },
  {
   "cell_type": "code",
   "execution_count": 85,
   "id": "1fa31570",
   "metadata": {},
   "outputs": [],
   "source": [
    "search_bar=driver.find_element(By.XPATH,'//*[@id=\"twotabsearchtextbox\"]')    # Finding the search bar using it's xpath\n",
    "search_bar.send_keys(inputU)       # Inputing keyword to search \n",
    "search_button=driver.find_element(By.XPATH,'//*[@id=\"nav-search-submit-button\"]')    # Finding the xpath of search button\n",
    "search_button.click()"
   ]
  },
  {
   "cell_type": "code",
   "execution_count": 86,
   "id": "bbb4b610",
   "metadata": {},
   "outputs": [],
   "source": [
    "productName=[]"
   ]
  },
  {
   "cell_type": "code",
   "execution_count": 87,
   "id": "514ec476",
   "metadata": {},
   "outputs": [
    {
     "name": "stdout",
     "output_type": "stream",
     "text": [
      "60 ['Henrix 38C 38 Inch Cutaway Acoustic Guitar With Dual Action Truss Rod, Gigbag, Picks, String Set, String Winder, Strap, Polishing Cloth & Ebook - Black', 'Vault DA20 Dreadnought Acoustic Guitar With Gig-Bag, Picks, Strings Set, String Winder, Strap, Polishing Cloth And Allen Key', 'MOCKING BIRD 38 inch Acoustic Guitar for Beginners Musical Instruments For Adults premium kit wood curved cutaway design Guitar Accessories with string & 5 picks & bag for beige (Blue)', 'Kadence Slowhand Premium Jumbo Semi Acoustic Guitar with Heavy Padded Bag, guitar cable, Pro Capo (Black Spruce Wood)', 'Juârez Acoustic Guitar, 38 Inch Cutaway, 038C with Bag, Strings, Pick and Strap, Black', 'Intern INT-38C Right hand Acoustic Guitar Kit, With Bag, Strings, Pick And Strap, Black, small', 'Intern INT-38C-SB Linden Wood Cutaway Right Handed Acoustic Guitar Kit, With Bag, Strings, Pick And Strap (Sunburst, 6 Strings)', 'Juarez Lindenwood Acoustic Guitar, 38 Inches Curved Body Cutaway, 38CUR With Bag, Strings, Pick And Strap (Black)', 'Yamaha F280 Acoustic Rosewood Guitar (Natural, Beige)', 'Intern INT-38C Acoustic Guitar Kit (Blue)', 'Juarez Lindenwood Acoustic Guitar Kit, 38 Inches Cutaway, 38C With Bag, Strings, Pick And Strap, TBS Transparent (Blue Sunburst)', 'Juarez Acoustic Guitar, 38 Inch Cutaway JRZ38C/PP - Retro Hippie Funky Design, Complete Set with Bag, Picks, Strap & Extra Strings, Purple Doodle', 'Medellin 38” Acoustic Guitar with (free learning course), Matt finish, Picks (Black)', 'Yamaha FS100C Acoustic Guitar, Black', 'Kadence rosewood Guitar Frontier Series, Electric Acoustic Black Guitar With EQ, Die Cast Keys, Set Of Strings, Strap, Picks And Bag (Black EQ, Electric Acoustic)', 'Intern INT-38C Acoustic Guitar Kit (Purple)', 'Vault EA20 Guitar Kit with Learn to Play Ebook, Bag, Strings, Straps, Picks, String winder & Polishing Cloth - 40 inch Cutaway Acoustic Guitar - Natural', 'Intern INT-38C-NT-G 38 Incheses lindenwood Right HAnded Acoustic Guitar Kit With Bag, Strings, Pick And Strap (Natural, 6-Strings)', 'Intern 38C Ebony Wood Cutaway Design Acoustic Guitar with Picks And Carry Bag (Black)', 'Juarez Lindenwood Acoustic Guitar Kit, 38 Inches Cutaway, 38C With Bag, Strings, Pick And Strap, 3TS Sunburst', 'BLUEBERRY B-D38, Acoustic Guitar Kit Inbuilt Truss Rod with Bag, Strap, One Pack Strings And Picks - 38 Inch (Natural)', 'BLUEBERRY B40L, Acoustic Guitar Kit Inbuilt Truss Rod with Bag, Strap, One Pack Strings And Picks - 40 Inch (Classic Maroon)', 'BLUEBERRY 38C, Acoustic Guitar Kit with Bag, Strap, One Pack Strings And Picks - 38 Inch (Natural)', 'BLUEBERRY, VIP-385, Acoustic Guitar Basswood, Ash With Bag, Belt, String Set and 2 Picks - 38 Inch (Natural)', 'Intern Int-38c Linden Wood Acoustic Guitar Kit with Carry Bag and Picks (Brown)', 'Juarez Acoustic Guitar, 38 Inch Cutaway, JRZ38C/TBLSNA TRANSPARENT BLUE SUNBURST', 'Kadence Frontier Acoustic Guitar 40\" with Learning Course, Die cast keys, with Combo (Bag,strap,strings And 3 picks) (Blue, Acoustic)', 'Intern INT-38C Acoustic Guitar Kit (Red)', 'INTERN Cutaway Design Acoustic Guitar Pack -Humidity Proof, Bend resistance, Durable Action, Natural tone & bright resonance. Red Carbon Fibre/Fiber Guitar with Bag, Strap, Strings set & Plectrums.', 'JUAREZ JRZ38C 38 Inches Lindenwood Right Handed Acoustic Guitar With Bag, Strings, Pick And Strap (Natural, Brown, 6 Strings)', 'JUAREZ Arpeggio Guitar JRA41SP-RD-K, red', 'Juârez JRZ38C/WH 6 Strings Acoustic Guitar 38 Inch Cutaway, Right Handed, White with Bag, Strings, Picks and Strap', 'Kadence A281 Professional Acoustic Rosewood guitar (Natural, Beige)', 'Intern INT-38C-BK-G Cutaway Right Handed Acoustic Guitar Kit, with Bag, Nickel Strings, Pick And Strap (Black) -6 Strings', 'Juarez Acoustic Guitar, 38 Inch Cutaway, JRZ38C/BKNA Black', 'Intern INT-38C-VT-G 38 Incheses Cutaway Right HAnded lindenwood Acoustic Guitar Kit, With Bag, Strings, Pick And Strap (Violet, 6-Strings)', 'Juarez JRZ38C/3TSNA Acoustic Guitar, 38 Inch Cutaway, 3TS Sunburst', 'Revel 38 Inches Cutaway Design Acoustic Guitar with Carry bag and Plectrums. Great tone and Beginner/Learners standard size configuration for all age groups (Black)', 'Kadence Slowhand Premium Jumbo Semi Acoustic Guitar with Heavy Padded Bag, guitar cable, Pro Capo (Black Spruce Wood)', 'Medellin Acoustic Guitar (with guitar learning course) Neon Pink (Combo, Strings,Bag,Picks and guitar course)', 'Intern Int-38c Sunburst Linden Wood Acoustic Guitar Kit with Carry Bag and Picks', 'Intern INT-38C-SB-G Linden Wood Cutaway Right Handed Acoustic Guitar Kit, With Bag, Strings, Pick And Strap (Sunburst, 6 Strings)', 'Intern INT-38C Natural Linden Wood Acoustic Guitar Kit with Carry Bag & Picks', 'Juârez JRZ38C/MAH 6 Strings Acoustic Guitar 38 Inch Cutaway, Right Handed, Mahogany with Bag, Strings, Picks and Strap', 'Juarez JRZ-ST01 38 Inches Wood 6-String Electric Guitar, Right Handed, Full Black, With Case/Bag And Picks (Black)', 'Henrix 38C PRO 38 Inch Cutaway Acoustic Guitar With with Die-cast Tuners, Dual-action Truss Rod, Gig-Bag, Picks, String set, String Winder, Strap & Polishing Cloth - Black', 'Juarez Acoustic Guitar, [ LEFT HANDED] 38 Inch Cutaway, 38CL/BK with Bag, Strings, Pick and Strap, Black', 'Intern INT-38C-RD-G Linden Wood Cutaway Right Handed Acoustic Guitar Kit, With Bag, Strings, Pick And Strap (Red, 6 Strings)', 'Kadence Frontier Semi Acoustic Jumbo Guitar 41\" with Learning Course, Die cast keys with Super Combo (Bag,strap,strings,capo And 3 picks) (Black, Electric Acoustic)', 'Yamaha FS80C 25 Incheses sprucewood The Ultimate Concert Body Cutaway Acoustic Guitar (Black) With Bajaao Gig-Bag', 'Juârez Acoustic Guitar, 38 Inch Cutaway, JRZ38C with Bag, Strings, Pick and Strap, Red', 'Fender Acoustic Guitar Dreadnought CD60 V3 Natural 970110521', 'Juârez Acoustic Guitar, 38 Inch Cutaway, JRZ38CT, Hippie Funky Design, with Bag, Picks, Strap & Extra String set', 'Fender Acoustic Guitar Auditorium Cutaway Electronics FA345CE Natural 971343021', 'JUAREZ Arpeggio 99.06 cm (39 Inch) Acoustic Guitar Kit, Spruce Top, Rosewood Fretboard & Bridge, Truss Rod, Chrome Die Cast Machine Tuners, Black', 'INTERN 41 inches Acoustic Guitar with truss rod. Includes carry bag, strings pack, strap & plectrums. Premium Wooden durable', 'Vault Traveller 34 Inch Acoustic Guitar With Truss Rod, Gig-Bag, Strap, Strings, Polishing Cloth, String Winder, Picks & E-Book - Natural Gloss', 'BLUEBERRY R-40 Blue, Acoustic Guitar Kit Inbuilt Truss Rod, with Bag, Belt & One Pack Strings & Picks - 40 Inch (Blue)', 'Acoustic Guitar, 39 Inch Cutaway, 039C with Bag, Strings, Pick and Strap, Random Colour colors may be vary', 'BLUEBERRY D38, Truss Rod Acoustic Guitar Kit with Bag, String, Belt & Picks (Sunburst)']\n"
     ]
    }
   ],
   "source": [
    "#scraping the Product_Name \n",
    "PName=driver.find_elements(By.XPATH,'//span[@class=\"a-size-base-plus a-color-base a-text-normal\"]')\n",
    "for i in PName:\n",
    "    if i.text is None :\n",
    "        productName.append(\"--\") \n",
    "    else:\n",
    "        productName.append(i.text)\n",
    "print(len(productName),productName)"
   ]
  },
  {
   "cell_type": "code",
   "execution_count": null,
   "id": "c7d7b2ac",
   "metadata": {},
   "outputs": [],
   "source": [
    "#Qu-2 Continue\n"
   ]
  }
 ],
 "metadata": {
  "kernelspec": {
   "display_name": "Python 3 (ipykernel)",
   "language": "python",
   "name": "python3"
  },
  "language_info": {
   "codemirror_mode": {
    "name": "ipython",
    "version": 3
   },
   "file_extension": ".py",
   "mimetype": "text/x-python",
   "name": "python",
   "nbconvert_exporter": "python",
   "pygments_lexer": "ipython3",
   "version": "3.10.9"
  }
 },
 "nbformat": 4,
 "nbformat_minor": 5
}
